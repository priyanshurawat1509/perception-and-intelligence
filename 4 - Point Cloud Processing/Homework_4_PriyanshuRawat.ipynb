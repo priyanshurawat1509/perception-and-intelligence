{
 "cells": [
  {
   "cell_type": "code",
   "execution_count": 241,
   "id": "ac3f3049",
   "metadata": {},
   "outputs": [],
   "source": [
    "from sklearn import linear_model\n",
    "import matplotlib.pyplot as plt\n",
    "import open3d as o3d\n",
    "import numpy as np\n",
    "import cv2 as cv\n",
    "import time\n",
    "import math"
   ]
  },
  {
   "cell_type": "code",
   "execution_count": 236,
   "id": "680ff41e",
   "metadata": {},
   "outputs": [
    {
     "name": "stdout",
     "output_type": "stream",
     "text": [
      "94989\n"
     ]
    }
   ],
   "source": [
    "#### Question-1)\n",
    "\n",
    "# Loading point cloud binary file\n",
    "bin_pcd = np.fromfile(\"c:/clemson_university/2nd_semester/AuE_8200_Machine_Perception_and_Intelligence/hw4/LiDAR_datasets/annotation-lidar_obstacle_label-data-apollo-1.0/bin_files/002_00000000.bin\", dtype=np.float32)\n",
    "\n",
    "# Reshaping\n",
    "bin_pcd_reshaped = bin_pcd.reshape((-1, 4))\n",
    "color = np.zeros([len(bin_pcd_reshaped),3])\n",
    "color[:,0] = abs(np.multiply(bin_pcd_reshaped[:,0], bin_pcd_reshaped[:,3])/255)\n",
    "color[:,1] = abs(np.multiply(bin_pcd_reshaped[:,1], bin_pcd_reshaped[:,3])/255)\n",
    "color[:,2] = abs(np.multiply(bin_pcd_reshaped[:,2], bin_pcd_reshaped[:,3])/255)\n",
    "\n",
    "o3d_pcd = o3d.geometry.PointCloud(o3d.utility.Vector3dVector(bin_pcd_reshaped[:,:3]))\n",
    "o3d_pcd.colors = o3d.utility.Vector3dVector(color)\n",
    "o3d.io.write_point_cloud(\"sample101.pcd\", o3d_pcd) #Saving the pointcloud \n",
    "o3d.visualization.draw_geometries([o3d_pcd])"
   ]
  },
  {
   "cell_type": "code",
   "execution_count": 225,
   "id": "727178e7",
   "metadata": {},
   "outputs": [],
   "source": [
    "#### Question-2)\n",
    "\n",
    "pcd = o3d.io.read_point_cloud(\"sample101.pcd\") #Loading the pointcloud\n",
    "voxel_pcd = pcd.voxel_down_sample(voxel_size=0.2) #Implementing voxel filter\n",
    "o3d.io.write_point_cloud(\"sample101_voxel.pcd\", voxel_pcd) #Saving the voxel pointcloud\n",
    "o3d.visualization.draw_geometries([downpcd],\n",
    "                                  zoom=0.3412,\n",
    "                                  front=[0.4257, -0.2125, -0.8795],\n",
    "                                  lookat=[2.6172, 2.0475, 1.532],\n",
    "                                  up=[-0.0694, -0.9768, 0.2024])\n"
   ]
  },
  {
   "cell_type": "code",
   "execution_count": 226,
   "id": "9b1f314f",
   "metadata": {},
   "outputs": [
    {
     "name": "stdout",
     "output_type": "stream",
     "text": [
      "Plane equation: 0.03x + 0.01y + 1.00z + 1.44 = 0\n"
     ]
    }
   ],
   "source": [
    "#### Question-3)\n",
    "\n",
    "pcd = o3d.io.read_point_cloud(\"sample101_voxel.pcd\")\n",
    "plane_model, inliers = pcd.segment_plane(distance_threshold=0.5,\n",
    "                                         ransac_n=10,\n",
    "                                         num_iterations=1000)\n",
    "[a, b, c, d] = plane_model\n",
    "print(f\"Plane equation: {a:.2f}x + {b:.2f}y + {c:.2f}z + {d:.2f} = 0\") #Printing the equation of the plane\n",
    "\n",
    "inlier_cloud = pcd.select_by_index(inliers)\n",
    "inlier_cloud.paint_uniform_color([1, 0, 0]) #Colorizing inliner points to 'red' \n",
    "outlier_cloud = pcd.select_by_index(inliers, invert=True)\n",
    "outlier_cloud.paint_uniform_color([0, 1, 0]) #Colorizing inliner points to 'green'\n",
    "\n",
    "#Visualizing ground plane model in 3D\n",
    "o3d.visualization.draw_geometries([inlier_cloud, outlier_cloud],\n",
    "                                  zoom=0.8,\n",
    "                                  front=[-0.4999, -0.1659, -0.8499],\n",
    "                                  lookat=[2.1813, 2.0619, 2.0999],\n",
    "                                  up=[0.1204, -0.9852, 0.1215])\n",
    "\n",
    "#Visualizing all the off-ground points in 3D\n",
    "o3d.visualization.draw_geometries([outlier_cloud],\n",
    "                                  zoom=0.8,\n",
    "                                  front=[-0.4999, -0.1659, -0.8499],\n",
    "                                  lookat=[2.1813, 2.0619, 2.0999],\n",
    "                                  up=[0.1204, -0.9852, 0.1215])"
   ]
  },
  {
   "cell_type": "code",
   "execution_count": 234,
   "id": "d89d7225",
   "metadata": {},
   "outputs": [
    {
     "data": {
      "image/png": "[encoded data removed]",
      "text/plain": [
       "<Figure size 432x288 with 1 Axes>"
      ]
     },
     "metadata": {
      "needs_background": "light"
     },
     "output_type": "display_data"
    }
   ],
   "source": [
    "#### Question-4)\n",
    "\n",
    "#Converting outlier point cloud data to -->> numpy array \n",
    "outlier_points = np.asarray(outlier_cloud.points)\n",
    "\n",
    "x_points = outlier_points[:, 0]\n",
    "y_points = outlier_points[:, 1]\n",
    "z_points = outlier_points[:, 2]\n",
    "\n",
    "fwd_range = (-10., 10.)\n",
    "side_range=(-10., 10.)\n",
    "res=0.1\n",
    "height_range=(-2., 2.)\n",
    "\n",
    "# Filter to return only indices of points within desired cube\n",
    "f_filt = np.logical_and((x_points > fwd_range[0]), (x_points < fwd_range[1]))\n",
    "s_filt = np.logical_and((y_points > -side_range[1]), (y_points < -side_range[0]))\n",
    "filter = np.logical_and(f_filt, s_filt)\n",
    "indices = np.argwhere(filter).flatten()\n",
    "\n",
    "x_points = x_points[indices]\n",
    "y_points = y_points[indices]\n",
    "z_points = z_points[indices]\n",
    "\n",
    "# Coverting to pixel position values on the basis of resolution\n",
    "x_img = (-y_points / res).astype(np.int32)  #x-axis is -y in LIDAR\n",
    "y_img = (-x_points / res).astype(np.int32)  #y-axis is -x in LIDAR\n",
    "\n",
    "x_img -= int(np.floor(side_range[0] / res))\n",
    "y_img += int(np.ceil(fwd_range[1] / res))\n",
    "\n",
    "pixel_values = np.clip(a=z_points,\n",
    "                       a_min=height_range[0],\n",
    "                       a_max=height_range[1])\n",
    "\n",
    "pixel_values = (((pixel_values - height_range[0]) / float(height_range[1] - height_range[0])) * 255).astype(dtype=\"float32\")\n",
    "                                                                                                        \n",
    "x_max = 1 + int((side_range[1] - side_range[0]) / res)\n",
    "y_max = 1 + int((fwd_range[1] - fwd_range[0]) / res)\n",
    "im = np.zeros([y_max, x_max], dtype=np.uint8)\n",
    "\n",
    "# Populating image array with pixel values\n",
    "im[y_img, x_img] = pixel_values\n",
    "\n",
    "#Visualizing the result\n",
    "plt.imshow(im)\n",
    "plt.title(\"x-y projection of off-ground points\")\n",
    "plt.xlim(0, 125)\n",
    "plt.ylim(0, 125)\n",
    "plt.show()"
   ]
  },
  {
   "cell_type": "code",
   "execution_count": 288,
   "id": "25f5eedc",
   "metadata": {},
   "outputs": [
    {
     "name": "stdout",
     "output_type": "stream",
     "text": [
      "[Open3D WARNING] GLFW Error: WGL: Failed to make context current: The requested transformation operation is not supported. \n"
     ]
    }
   ],
   "source": [
    "#### Question-5) a)\n",
    "\n",
    "theta = []\n",
    "phi = []\n",
    "r = []\n",
    "\n",
    "#Calculating r, theta and phi values\n",
    "for k in range(0, len(bin_pcd_reshaped)):\n",
    "    r.append(np.sqrt(bin_pcd_reshaped[k,0]**2 + bin_pcd_reshaped[k,2]**2 + bin_pcd_reshaped[k,2]**2))\n",
    "    theta.append(np.arctan(bin_pcd_reshaped[k,1]/bin_pcd_reshaped[k,0]))\n",
    "    phi.append(math.asin(bin_pcd_reshaped[k,2]/r[k]))\n",
    "\n",
    "X = r * np.sin(phi) * np.cos(phi)\n",
    "Y = r * np.sin(phi) * np.sin(phi)\n",
    "Z = r * np.cos(phi)\n",
    "\n",
    "a = np.zeros(shape=(len(X),3))\n",
    "\n",
    "a[:,0] = X\n",
    "a[:,1] = Y\n",
    "a[:,2] = Z\n",
    "\n",
    "o3d_pcd = o3d.geometry.PointCloud(o3d.utility.Vector3dVector(a[:,:3]))\n",
    "o3d.io.write_point_cloud(\"sample101.pcd\", o3d_pcd) #Saving the pointcloud \n",
    "o3d.visualization.draw_geometries([o3d_pcd])"
   ]
  },
  {
   "cell_type": "code",
   "execution_count": 294,
   "id": "53c8ae16",
   "metadata": {},
   "outputs": [
    {
     "data": {
      "image/png": "[encoded data removed]",
      "text/plain": [
       "<Figure size 432x288 with 1 Axes>"
      ]
     },
     "metadata": {
      "needs_background": "light"
     },
     "output_type": "display_data"
    }
   ],
   "source": [
    "#### Question-5) b)\n",
    "\n",
    "x_points = a[:, 0]\n",
    "y_points = a[:, 1]\n",
    "z_points = a[:, 2]\n",
    "\n",
    "fwd_range = (-10., 10.)\n",
    "side_range=(-10., 10.)\n",
    "res=0.1\n",
    "height_range=(-2., 2.)\n",
    "\n",
    "# Filter to return only indices of points within desired cube\n",
    "f_filt = np.logical_and((x_points > fwd_range[0]), (x_points < fwd_range[1]))\n",
    "s_filt = np.logical_and((y_points > -side_range[1]), (y_points < -side_range[0]))\n",
    "filter = np.logical_and(f_filt, s_filt)\n",
    "indices = np.argwhere(filter).flatten()\n",
    "\n",
    "x_points = x_points[indices]\n",
    "y_points = y_points[indices]\n",
    "z_points = z_points[indices]\n",
    "\n",
    "# Coverting to pixel position values on the basis of resolution\n",
    "x_img = (-y_points / res).astype(np.int32)  #x-axis is -y in LIDAR\n",
    "y_img = (-x_points / res).astype(np.int32)  #y-axis is -x in LIDAR\n",
    "\n",
    "x_img -= int(np.floor(side_range[0] / res))\n",
    "y_img += int(np.ceil(fwd_range[1] / res))\n",
    "\n",
    "pixel_values = np.clip(a=bin_pcd_reshaped[:,3], #Distance as intentisy values from the pointcloud data\n",
    "                       a_min=height_range[0],\n",
    "                       a_max=height_range[1])\n",
    "\n",
    "pixel_values = (((pixel_values - height_range[0]) / float(height_range[1] - height_range[0])) * 255).astype(dtype=\"float32\")\n",
    "                                                                                                        \n",
    "x_max = 1 + int((side_range[1] - side_range[0]) / res)\n",
    "y_max = 1 + int((fwd_range[1] - fwd_range[0]) / res)\n",
    "im = np.zeros([y_max, x_max], dtype=np.uint8)\n",
    "\n",
    "# Populating image array with pixel values\n",
    "im[y_img, x_img] = pixel_values\n",
    "\n",
    "#Visualizing the result\n",
    "plt.imshow(im)\n",
    "plt.title(\"2D depth image\")\n",
    "plt.xlim(0, 125)\n",
    "plt.ylim(0, 125)\n",
    "plt.show()"
   ]
  }
 ],
 "metadata": {
  "kernelspec": {
   "display_name": "Python 3 (ipykernel)",
   "language": "python",
   "name": "python3"
  },
  "language_info": {
   "codemirror_mode": {
    "name": "ipython",
    "version": 3
   },
   "file_extension": ".py",
   "mimetype": "text/x-python",
   "name": "python",
   "nbconvert_exporter": "python",
   "pygments_lexer": "ipython3",
   "version": "3.9.7"
  }
 },
 "nbformat": 4,
 "nbformat_minor": 5
}
